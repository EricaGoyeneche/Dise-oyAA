{
  "nbformat": 4,
  "nbformat_minor": 0,
  "metadata": {
    "colab": {
      "name": "sep28_2021.ipynb",
      "provenance": [],
      "collapsed_sections": [],
      "authorship_tag": "ABX9TyNhVcrLwWNJyr2hTIocpZ3T",
      "include_colab_link": true
    },
    "kernelspec": {
      "name": "python3",
      "display_name": "Python 3"
    },
    "language_info": {
      "name": "python"
    }
  },
  "cells": [
    {
      "cell_type": "markdown",
      "metadata": {
        "id": "view-in-github",
        "colab_type": "text"
      },
      "source": [
        "<a href=\"https://colab.research.google.com/github/EricaGoyeneche/Dise-oyAA/blob/main/sep28_2021.ipynb\" target=\"_parent\"><img src=\"https://colab.research.google.com/assets/colab-badge.svg\" alt=\"Open In Colab\"/></a>"
      ]
    },
    {
      "cell_type": "code",
      "metadata": {
        "colab": {
          "base_uri": "https://localhost:8080/"
        },
        "id": "7zuB4nsN_E35",
        "outputId": "d3013527-f188-4be8-eff7-cf9c55e61ca0"
      },
      "source": [
        "#COMO CREAR ARREGLOS DE NUM ALEATORIOS QUE NO SE REPITAN \n",
        "import random \n",
        "a=[1,2,3,4,5,6,7,8,9,10]\n",
        "b=[]\n",
        "while (len(b)<10):\n",
        "  ale = random.choice(a)  #Es para que nos de un número aleatorio\n",
        "  b.append(ale)\n",
        "  print(b)"
      ],
      "execution_count": 5,
      "outputs": [
        {
          "output_type": "stream",
          "name": "stdout",
          "text": [
            "[10]\n",
            "[10, 1]\n",
            "[10, 1, 10]\n",
            "[10, 1, 10, 2]\n",
            "[10, 1, 10, 2, 10]\n",
            "[10, 1, 10, 2, 10, 5]\n",
            "[10, 1, 10, 2, 10, 5, 7]\n",
            "[10, 1, 10, 2, 10, 5, 7, 10]\n",
            "[10, 1, 10, 2, 10, 5, 7, 10, 5]\n",
            "[10, 1, 10, 2, 10, 5, 7, 10, 5, 8]\n"
          ]
        }
      ]
    },
    {
      "cell_type": "code",
      "metadata": {
        "colab": {
          "base_uri": "https://localhost:8080/"
        },
        "id": "eSay4LIWC8fb",
        "outputId": "87540c0d-799b-4e3a-9980-39c5001818d8"
      },
      "source": [
        "#N NUMERO ALEATORIOS  \n",
        "import random\n",
        "\n",
        "n = 100  #Le puedo cambiar la cantidad \n",
        "a = []\n",
        "while (len(a)<n):\n",
        "    ale = random.randint(0,n)\n",
        "    if not(ale in a):\n",
        "        a.append(ale)\n",
        "print(a)"
      ],
      "execution_count": 14,
      "outputs": [
        {
          "output_type": "stream",
          "name": "stdout",
          "text": [
            "[74, 45, 95, 10, 77, 62, 0, 35, 16, 85, 91, 44, 69, 61, 26, 63, 76, 4, 50, 7, 86, 52, 24, 13, 21, 9, 54, 97, 59, 32, 51, 81, 2, 90, 5, 83, 37, 98, 75, 89, 43, 82, 42, 18, 17, 73, 67, 40, 80, 15, 47, 70, 46, 58, 31, 56, 27, 41, 53, 100, 49, 33, 8, 3, 6, 14, 29, 96, 30, 34, 87, 72, 99, 11, 22, 78, 66, 38, 88, 84, 55, 92, 65, 23, 48, 71, 60, 64, 94, 20, 19, 93, 12, 68, 28, 79, 25, 1, 39, 57]\n"
          ]
        }
      ]
    },
    {
      "cell_type": "markdown",
      "metadata": {
        "id": "OujQszQ6BPSK"
      },
      "source": [
        "#ORDENAMIENTO BURBUJA \n",
        "#Para la primera posición la comparo con la siguiente, si están en orden no hago nada, de lo contrario los intercambio y pasa a la sig. posición hasta la penultima\n"
      ]
    },
    {
      "cell_type": "markdown",
      "metadata": {
        "id": "krZD5AxoAOPm"
      },
      "source": [
        "#ORDENAMIENTO BURBUJA \n"
      ]
    },
    {
      "cell_type": "code",
      "metadata": {
        "colab": {
          "base_uri": "https://localhost:8080/"
        },
        "id": "AE6Omu0CD-eE",
        "outputId": "e297dccc-cd52-465b-dd0a-8acc049babb5"
      },
      "source": [
        "a = [2,5,8,9,4,1,6,10,9]\n",
        "for n in range(len(a)):\n",
        " for c in range(len(a)-1):\n",
        "  if (a[c]>a[c+1]):\n",
        "    temp=a[c]\n",
        "    a[c]=a[c+1]\n",
        "    a[c+1] = temp\n",
        "    print(a)"
      ],
      "execution_count": 17,
      "outputs": [
        {
          "output_type": "stream",
          "name": "stdout",
          "text": [
            "[2, 5, 8, 4, 9, 1, 6, 10, 9]\n",
            "[2, 5, 8, 4, 1, 9, 6, 10, 9]\n",
            "[2, 5, 8, 4, 1, 6, 9, 10, 9]\n",
            "[2, 5, 8, 4, 1, 6, 9, 9, 10]\n",
            "[2, 5, 4, 8, 1, 6, 9, 9, 10]\n",
            "[2, 5, 4, 1, 8, 6, 9, 9, 10]\n",
            "[2, 5, 4, 1, 6, 8, 9, 9, 10]\n",
            "[2, 4, 5, 1, 6, 8, 9, 9, 10]\n",
            "[2, 4, 1, 5, 6, 8, 9, 9, 10]\n",
            "[2, 1, 4, 5, 6, 8, 9, 9, 10]\n",
            "[1, 2, 4, 5, 6, 8, 9, 9, 10]\n"
          ]
        }
      ]
    },
    {
      "cell_type": "code",
      "metadata": {
        "colab": {
          "base_uri": "https://localhost:8080/"
        },
        "id": "Kvwdz_6dEAWk",
        "outputId": "fd12db3d-ae5a-47b0-e3c2-1dd1100b250d"
      },
      "source": [
        "import random\n",
        "import time\n",
        "\n",
        "n = 3800\n",
        "a = []\n",
        "while (len(a)<n):\n",
        "    ale = random.randint(0,n)\n",
        "    if not(ale in a):\n",
        "        a.append(ale)\n",
        "\n",
        "inicio = time.time()\n",
        "for d in range(len(a)):\n",
        "    for c in range(len(a)-1):\n",
        "        if (a[c]>a[c+1]):\n",
        "            temp=a[c]\n",
        "            a[c]=a[c+1]\n",
        "            a[c+1]=temp\n",
        "fin = time.time()\n",
        "print(\"se tardó: \",fin-inicio)\n",
        "#CON 1900 NUMEROS se tardó:  1.0224406719207764\n",
        "#CON 3800 NUM se tardó:  4.0445942878723145\n",
        "\n"
      ],
      "execution_count": 36,
      "outputs": [
        {
          "output_type": "stream",
          "name": "stdout",
          "text": [
            "se tardó:  4.0445942878723145\n"
          ]
        }
      ]
    },
    {
      "cell_type": "markdown",
      "metadata": {
        "id": "2tWUudYhHyzi"
      },
      "source": [
        "El ordenamiento burbuja tiene un costo computacional de el orden de o(n^2) "
      ]
    }
  ]
}